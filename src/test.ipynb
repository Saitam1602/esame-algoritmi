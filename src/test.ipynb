{
 "cells": [
  {
   "cell_type": "code",
   "execution_count": 34,
   "metadata": {},
   "outputs": [],
   "source": [
    "import pickle\n",
    "import pandas as pd\n",
    "\n",
    "from data.make_dataset import load_data\n",
    "from features.build_features import multi_ordinal_encoder, get_best_correlation_columns, choose_columns"
   ]
  },
  {
   "cell_type": "code",
   "execution_count": 35,
   "metadata": {},
   "outputs": [
    {
     "name": "stderr",
     "output_type": "stream",
     "text": [
      "c:\\Users\\MatiasMaiorano\\anaconda3\\lib\\site-packages\\sklearn\\base.py:329: UserWarning: Trying to unpickle estimator DecisionTreeRegressor from version 1.0.2 when using version 1.1.1. This might lead to breaking code or invalid results. Use at your own risk. For more info please refer to:\n",
      "https://scikit-learn.org/stable/model_persistence.html#security-maintainability-limitations\n",
      "  warnings.warn(\n",
      "c:\\Users\\MatiasMaiorano\\anaconda3\\lib\\site-packages\\sklearn\\base.py:329: UserWarning: Trying to unpickle estimator RandomForestRegressor from version 1.0.2 when using version 1.1.1. This might lead to breaking code or invalid results. Use at your own risk. For more info please refer to:\n",
      "https://scikit-learn.org/stable/model_persistence.html#security-maintainability-limitations\n",
      "  warnings.warn(\n",
      "c:\\Users\\MatiasMaiorano\\anaconda3\\lib\\site-packages\\sklearn\\base.py:329: UserWarning: Trying to unpickle estimator AdaBoostRegressor from version 1.0.2 when using version 1.1.1. This might lead to breaking code or invalid results. Use at your own risk. For more info please refer to:\n",
      "https://scikit-learn.org/stable/model_persistence.html#security-maintainability-limitations\n",
      "  warnings.warn(\n"
     ]
    }
   ],
   "source": [
    "decision_tree_model = pickle.load(open('models/models/decision_tree_regressor_model.sav', 'rb'))\n",
    "random_forest_model = pickle.load(open('models/models/random_forest_regressor_model.sav', 'rb'))\n",
    "ada_boost_model = pickle.load(open('models/models/ada_boost_regressor_model.sav', 'rb'))\n",
    "xgboost_model = pickle.load(open('models/models/xgboost_regressor_model.sav', 'rb'))"
   ]
  },
  {
   "cell_type": "code",
   "execution_count": 36,
   "metadata": {},
   "outputs": [],
   "source": [
    "from sklearn.preprocessing import OrdinalEncoder"
   ]
  },
  {
   "cell_type": "code",
   "execution_count": 37,
   "metadata": {},
   "outputs": [],
   "source": [
    "df = load_data('../data/raw/train.csv')\n",
    "oe = OrdinalEncoder()\n",
    "df = multi_ordinal_encoder(df, oe)\n",
    "\n",
    "best_columns = get_best_correlation_columns(df, 'SalePrice', .5)\n",
    "X_test = choose_columns(df, best_columns)\n",
    "y_test = choose_columns(df, ['SalePrice'])"
   ]
  },
  {
   "cell_type": "code",
   "execution_count": 38,
   "metadata": {},
   "outputs": [],
   "source": [
    "predict_decision_tree = decision_tree_model.predict(X_test)\n",
    "predict_random_forest = random_forest_model.predict(X_test)\n",
    "predict_ada_boost = ada_boost_model.predict(X_test)\n",
    "predict_xgboost = xgboost_model.predict(X_test)"
   ]
  },
  {
   "cell_type": "code",
   "execution_count": 68,
   "metadata": {},
   "outputs": [
    {
     "data": {
      "text/html": [
       "<div>\n",
       "<style scoped>\n",
       "    .dataframe tbody tr th:only-of-type {\n",
       "        vertical-align: middle;\n",
       "    }\n",
       "\n",
       "    .dataframe tbody tr th {\n",
       "        vertical-align: top;\n",
       "    }\n",
       "\n",
       "    .dataframe thead th {\n",
       "        text-align: right;\n",
       "    }\n",
       "</style>\n",
       "<table border=\"1\" class=\"dataframe\">\n",
       "  <thead>\n",
       "    <tr style=\"text-align: right;\">\n",
       "      <th></th>\n",
       "      <th>y_true</th>\n",
       "      <th>predict_decision_tree</th>\n",
       "      <th>predict_random_forest</th>\n",
       "      <th>predict_ada_boost</th>\n",
       "      <th>predict_xgboost</th>\n",
       "      <th>error_decision_tree</th>\n",
       "      <th>error_random_forest</th>\n",
       "      <th>error_ada_boost</th>\n",
       "      <th>error_xgboost</th>\n",
       "    </tr>\n",
       "  </thead>\n",
       "  <tbody>\n",
       "    <tr>\n",
       "      <th>0</th>\n",
       "      <td>208500</td>\n",
       "      <td>189500.0</td>\n",
       "      <td>195021.4675</td>\n",
       "      <td>202762.806167</td>\n",
       "      <td>207833.015625</td>\n",
       "      <td>19000.0</td>\n",
       "      <td>13479.0</td>\n",
       "      <td>5737.0</td>\n",
       "      <td>667.0</td>\n",
       "    </tr>\n",
       "    <tr>\n",
       "      <th>1</th>\n",
       "      <td>181500</td>\n",
       "      <td>165000.0</td>\n",
       "      <td>168039.9225</td>\n",
       "      <td>157621.141026</td>\n",
       "      <td>179248.750000</td>\n",
       "      <td>16500.0</td>\n",
       "      <td>13460.0</td>\n",
       "      <td>23879.0</td>\n",
       "      <td>2251.0</td>\n",
       "    </tr>\n",
       "    <tr>\n",
       "      <th>2</th>\n",
       "      <td>223500</td>\n",
       "      <td>189500.0</td>\n",
       "      <td>211245.4675</td>\n",
       "      <td>207429.728682</td>\n",
       "      <td>220799.234375</td>\n",
       "      <td>34000.0</td>\n",
       "      <td>12255.0</td>\n",
       "      <td>16070.0</td>\n",
       "      <td>2701.0</td>\n",
       "    </tr>\n",
       "    <tr>\n",
       "      <th>3</th>\n",
       "      <td>140000</td>\n",
       "      <td>111250.0</td>\n",
       "      <td>173976.2175</td>\n",
       "      <td>179754.486811</td>\n",
       "      <td>139703.328125</td>\n",
       "      <td>28750.0</td>\n",
       "      <td>-33976.0</td>\n",
       "      <td>-39754.0</td>\n",
       "      <td>297.0</td>\n",
       "    </tr>\n",
       "    <tr>\n",
       "      <th>4</th>\n",
       "      <td>250000</td>\n",
       "      <td>262000.0</td>\n",
       "      <td>276499.4750</td>\n",
       "      <td>269375.195980</td>\n",
       "      <td>250897.546875</td>\n",
       "      <td>-12000.0</td>\n",
       "      <td>-26499.0</td>\n",
       "      <td>-19375.0</td>\n",
       "      <td>-898.0</td>\n",
       "    </tr>\n",
       "    <tr>\n",
       "      <th>...</th>\n",
       "      <td>...</td>\n",
       "      <td>...</td>\n",
       "      <td>...</td>\n",
       "      <td>...</td>\n",
       "      <td>...</td>\n",
       "      <td>...</td>\n",
       "      <td>...</td>\n",
       "      <td>...</td>\n",
       "      <td>...</td>\n",
       "    </tr>\n",
       "    <tr>\n",
       "      <th>1455</th>\n",
       "      <td>175000</td>\n",
       "      <td>175950.0</td>\n",
       "      <td>178194.9950</td>\n",
       "      <td>173822.851562</td>\n",
       "      <td>173729.609375</td>\n",
       "      <td>-950.0</td>\n",
       "      <td>-3195.0</td>\n",
       "      <td>1177.0</td>\n",
       "      <td>1270.0</td>\n",
       "    </tr>\n",
       "    <tr>\n",
       "      <th>1456</th>\n",
       "      <td>210000</td>\n",
       "      <td>239000.0</td>\n",
       "      <td>212841.0700</td>\n",
       "      <td>215953.126394</td>\n",
       "      <td>210353.343750</td>\n",
       "      <td>-29000.0</td>\n",
       "      <td>-2841.0</td>\n",
       "      <td>-5953.0</td>\n",
       "      <td>-353.0</td>\n",
       "    </tr>\n",
       "    <tr>\n",
       "      <th>1457</th>\n",
       "      <td>266500</td>\n",
       "      <td>263750.0</td>\n",
       "      <td>265100.9825</td>\n",
       "      <td>230742.149780</td>\n",
       "      <td>266509.187500</td>\n",
       "      <td>2750.0</td>\n",
       "      <td>1399.0</td>\n",
       "      <td>35758.0</td>\n",
       "      <td>-9.0</td>\n",
       "    </tr>\n",
       "    <tr>\n",
       "      <th>1458</th>\n",
       "      <td>142125</td>\n",
       "      <td>140000.0</td>\n",
       "      <td>134817.7150</td>\n",
       "      <td>133844.104167</td>\n",
       "      <td>140874.437500</td>\n",
       "      <td>2125.0</td>\n",
       "      <td>7307.0</td>\n",
       "      <td>8281.0</td>\n",
       "      <td>1251.0</td>\n",
       "    </tr>\n",
       "    <tr>\n",
       "      <th>1459</th>\n",
       "      <td>147500</td>\n",
       "      <td>157000.0</td>\n",
       "      <td>148158.4375</td>\n",
       "      <td>125478.909894</td>\n",
       "      <td>148851.171875</td>\n",
       "      <td>-9500.0</td>\n",
       "      <td>-658.0</td>\n",
       "      <td>22021.0</td>\n",
       "      <td>-1351.0</td>\n",
       "    </tr>\n",
       "  </tbody>\n",
       "</table>\n",
       "<p>1460 rows × 9 columns</p>\n",
       "</div>"
      ],
      "text/plain": [
       "      y_true  predict_decision_tree  predict_random_forest  predict_ada_boost  \\\n",
       "0     208500               189500.0            195021.4675      202762.806167   \n",
       "1     181500               165000.0            168039.9225      157621.141026   \n",
       "2     223500               189500.0            211245.4675      207429.728682   \n",
       "3     140000               111250.0            173976.2175      179754.486811   \n",
       "4     250000               262000.0            276499.4750      269375.195980   \n",
       "...      ...                    ...                    ...                ...   \n",
       "1455  175000               175950.0            178194.9950      173822.851562   \n",
       "1456  210000               239000.0            212841.0700      215953.126394   \n",
       "1457  266500               263750.0            265100.9825      230742.149780   \n",
       "1458  142125               140000.0            134817.7150      133844.104167   \n",
       "1459  147500               157000.0            148158.4375      125478.909894   \n",
       "\n",
       "      predict_xgboost  error_decision_tree  error_random_forest  \\\n",
       "0       207833.015625              19000.0              13479.0   \n",
       "1       179248.750000              16500.0              13460.0   \n",
       "2       220799.234375              34000.0              12255.0   \n",
       "3       139703.328125              28750.0             -33976.0   \n",
       "4       250897.546875             -12000.0             -26499.0   \n",
       "...               ...                  ...                  ...   \n",
       "1455    173729.609375               -950.0              -3195.0   \n",
       "1456    210353.343750             -29000.0              -2841.0   \n",
       "1457    266509.187500               2750.0               1399.0   \n",
       "1458    140874.437500               2125.0               7307.0   \n",
       "1459    148851.171875              -9500.0               -658.0   \n",
       "\n",
       "      error_ada_boost  error_xgboost  \n",
       "0              5737.0          667.0  \n",
       "1             23879.0         2251.0  \n",
       "2             16070.0         2701.0  \n",
       "3            -39754.0          297.0  \n",
       "4            -19375.0         -898.0  \n",
       "...               ...            ...  \n",
       "1455           1177.0         1270.0  \n",
       "1456          -5953.0         -353.0  \n",
       "1457          35758.0           -9.0  \n",
       "1458           8281.0         1251.0  \n",
       "1459          22021.0        -1351.0  \n",
       "\n",
       "[1460 rows x 9 columns]"
      ]
     },
     "execution_count": 68,
     "metadata": {},
     "output_type": "execute_result"
    }
   ],
   "source": [
    "df_ris = pd.DataFrame(columns=['y_true'])\n",
    "df_ris.y_true = y_test.values.squeeze()\n",
    "df_ris['predict_decision_tree'] = predict_decision_tree\n",
    "df_ris['predict_random_forest'] = predict_random_forest\n",
    "df_ris['predict_ada_boost'] = predict_ada_boost\n",
    "df_ris['predict_xgboost'] = predict_xgboost\n",
    "df_ris['error_decision_tree'] = round(df_ris['y_true'] - df_ris['predict_decision_tree'], 0)\n",
    "df_ris['error_random_forest'] = round(df_ris['y_true'] - df_ris['predict_random_forest'], 0)\n",
    "df_ris['error_ada_boost'] = round(df_ris['y_true'] - df_ris['predict_ada_boost'],0)\n",
    "df_ris['error_xgboost'] = round(df_ris['y_true'] - df_ris['predict_xgboost'],0)\n",
    "df_ris"
   ]
  },
  {
   "cell_type": "code",
   "execution_count": 71,
   "metadata": {},
   "outputs": [],
   "source": [
    "import seaborn as sns\n",
    "import matplotlib.pyplot as plt"
   ]
  },
  {
   "cell_type": "code",
   "execution_count": 121,
   "metadata": {},
   "outputs": [
    {
     "data": {
      "text/plain": [
       "<matplotlib.legend.Legend at 0x1e1f4444880>"
      ]
     },
     "execution_count": 121,
     "metadata": {},
     "output_type": "execute_result"
    },
    {
     "data": {
      "image/png": "[encoded data removed]",
      "text/plain": [
       "<Figure size 1080x720 with 1 Axes>"
      ]
     },
     "metadata": {
      "needs_background": "light"
     },
     "output_type": "display_data"
    }
   ],
   "source": [
    "plt.figure(figsize=(15,10))\n",
    "plt.plot(df_ris['error_decision_tree'].abs().sort_values().values.squeeze(), label=\"error_decision_tree\")\n",
    "plt.plot(df_ris['error_random_forest'].abs().sort_values().values.squeeze(), label=\"error_random_forest\")\n",
    "plt.plot(df_ris['error_ada_boost'].abs().sort_values().values.squeeze(), label=\"error_ada_boost\")\n",
    "plt.plot(df_ris['error_xgboost'].abs().sort_values().values.squeeze(), label=\"error_xgboost\")\n",
    "plt.legend()\n"
   ]
  }
 ],
 "metadata": {
  "kernelspec": {
   "display_name": "Python 3.8.8 ('base')",
   "language": "python",
   "name": "python3"
  },
  "language_info": {
   "codemirror_mode": {
    "name": "ipython",
    "version": 3
   },
   "file_extension": ".py",
   "mimetype": "text/x-python",
   "name": "python",
   "nbconvert_exporter": "python",
   "pygments_lexer": "ipython3",
   "version": "3.8.8"
  },
  "orig_nbformat": 4,
  "vscode": {
   "interpreter": {
    "hash": "0c43dbd198ad729ee0d71e8a3525ec1c9cc1cf76b048b5fd033996c8c31caee2"
   }
  }
 },
 "nbformat": 4,
 "nbformat_minor": 2
}
